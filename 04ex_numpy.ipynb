{
 "cells": [
  {
   "cell_type": "markdown",
   "metadata": {},
   "source": [
    "1\\. **Reductions**\n",
    "\n",
    "Find the total mean, and the mean for each row and column of the following matrix:\n",
    "\n",
    "```python\n",
    "m = np.arange(12).reshape((3,4))\n",
    "```"
   ]
  },
  {
   "cell_type": "code",
   "execution_count": 18,
   "metadata": {},
   "outputs": [
    {
     "name": "stdout",
     "output_type": "stream",
     "text": [
      "[[ 0  1  2  3]\n",
      " [ 4  5  6  7]\n",
      " [ 8  9 10 11]]\n",
      "The total mean of the matrix is: 5.5\n",
      "The mean for each column is: [4. 5. 6. 7.]\n",
      "The mean for each row is: [1.5 5.5 9.5]\n"
     ]
    }
   ],
   "source": [
    "import numpy as np\n",
    "\n",
    "import math\n",
    "\n",
    "m = np.arange(12).reshape((3,4))\n",
    "print(m) \n",
    "\n",
    "print(\"The total mean of the matrix is:\", np.mean(m)) \n",
    "print(\"The mean for each column is:\", np.mean(m,axis=0)) \n",
    "print(\"The mean for each row is:\", np.mean(m,axis=1))"
   ]
  },
  {
   "cell_type": "markdown",
   "metadata": {},
   "source": [
    "2\\. **Outer product**\n",
    "\n",
    "Find the outer product of the following vectors:\n",
    "\n",
    "```python\n",
    "u = np.array([1, 3, 5, 7])\n",
    "v = np.array([2, 4, 6, 8])\n",
    "```\n",
    "\n",
    "Use different methods to do this:\n",
    "\n",
    "   1. Using the function `outer` in numpy\n",
    "   2. Using a nested `for` loop or a list comprehension\n",
    "   3. Using numpy broadcasting operations"
   ]
  },
  {
   "cell_type": "code",
   "execution_count": 20,
   "metadata": {},
   "outputs": [
    {
     "name": "stdout",
     "output_type": "stream",
     "text": [
      "[[ 2  4  6  8]\n",
      " [ 6 12 18 24]\n",
      " [10 20 30 40]\n",
      " [14 28 42 56]]\n",
      "[[ 2.  4.  6.  8.]\n",
      " [ 6. 12. 18. 24.]\n",
      " [10. 20. 30. 40.]\n",
      " [14. 28. 42. 56.]]\n",
      "[[ 2  4  6  8]\n",
      " [ 6 12 18 24]\n",
      " [10 20 30 40]\n",
      " [14 28 42 56]]\n"
     ]
    }
   ],
   "source": [
    "import numpy as np\n",
    "import math\n",
    "\n",
    "u = np.array([1, 3, 5, 7])\n",
    "v = np.array([2, 4, 6, 8])\n",
    "\n",
    "#outer function\n",
    "outer1=np.outer(u,v)\n",
    "print(outer1)\n",
    "    \n",
    "#for loop\n",
    "outer2=np.zeros((4, 4))\n",
    "for i in range(4):\n",
    "    for j in range(4):\n",
    "        outer2[i][j]=u[i]*v[j]\n",
    "print(outer2)\n",
    "\n",
    "#broadcasting\n",
    "outer3 = np.tile(u,(4,1)).T * v\n",
    "print(outer3)"
   ]
  },
  {
   "cell_type": "markdown",
   "metadata": {},
   "source": [
    "3\\. **Matrix masking**\n",
    "\n",
    "Create a 10 by 6 matrix of float random numbers, distributed between 0 and 3 according to a flat distribution.\n",
    "\n",
    "After creating the matrix, set all entries $< 0.3$ to zero using a mask."
   ]
  },
  {
   "cell_type": "code",
   "execution_count": 1,
   "metadata": {},
   "outputs": [
    {
     "name": "stdout",
     "output_type": "stream",
     "text": [
      "[[2.94792847 2.28429044 2.15415802 0.30241783 2.67892527 2.32011434]\n",
      " [1.27210669 0.04841201 0.03575811 1.36143993 2.66136076 0.80249703]\n",
      " [0.73387382 1.81845646 0.27989837 0.28588632 2.38120278 1.69238794]\n",
      " [2.62712412 2.01677617 2.07073336 0.86248084 2.33248504 0.78964122]\n",
      " [0.27482581 0.02968842 2.92728968 1.32174217 2.9247679  2.55224472]\n",
      " [0.33694914 0.10181739 2.72705739 0.03272196 1.83585317 1.1021785 ]\n",
      " [1.69216224 0.80758839 0.5581942  1.29603705 1.88925642 2.59058725]\n",
      " [0.15126737 2.83274706 0.96199866 1.65160423 1.11816073 0.79852823]\n",
      " [1.98376277 0.77903876 1.84166561 2.85827059 2.79774752 2.42692856]\n",
      " [1.25646152 2.93659475 0.46818463 1.75283902 0.87125532 2.5662092 ]]\n",
      "[[ True  True  True  True  True  True]\n",
      " [ True False False  True  True  True]\n",
      " [ True  True False False  True  True]\n",
      " [ True  True  True  True  True  True]\n",
      " [False False  True  True  True  True]\n",
      " [ True False  True False  True  True]\n",
      " [ True  True  True  True  True  True]\n",
      " [False  True  True  True  True  True]\n",
      " [ True  True  True  True  True  True]\n",
      " [ True  True  True  True  True  True]]\n",
      "[[0.         0.         0.         0.         0.         0.        ]\n",
      " [0.         0.04841201 0.03575811 0.         0.         0.        ]\n",
      " [0.         0.         0.27989837 0.28588632 0.         0.        ]\n",
      " [0.         0.         0.         0.         0.         0.        ]\n",
      " [0.27482581 0.02968842 0.         0.         0.         0.        ]\n",
      " [0.         0.10181739 0.         0.03272196 0.         0.        ]\n",
      " [0.         0.         0.         0.         0.         0.        ]\n",
      " [0.15126737 0.         0.         0.         0.         0.        ]\n",
      " [0.         0.         0.         0.         0.         0.        ]\n",
      " [0.         0.         0.         0.         0.         0.        ]]\n"
     ]
    }
   ],
   "source": [
    "import numpy as np\n",
    "import numpy.random as npr\n",
    "import math\n",
    "\n",
    "m = 3*npr.rand(10, 6)\n",
    "print(m)\n",
    "    \n",
    "mask = (m >= 0.3)\n",
    "print(mask)\n",
    "\n",
    "m[mask] = 0\n",
    "print (m)"
   ]
  },
  {
   "cell_type": "markdown",
   "metadata": {},
   "source": [
    "4\\. **Trigonometric functions**\n",
    "\n",
    "Use `np.linspace` to create an array of 100 numbers between $0$ and $2\\pi$ (inclusive).\n",
    "\n",
    "  * Extract every 10th element using the slice notation\n",
    "  * Reverse the array using the slice notation\n",
    "  * Extract elements where the absolute difference between the `sin` and `cos` functions evaluated for that element is $< 0.1$\n",
    "  * **Optional**: make a plot showing the sin and cos functions and indicate where they are close"
   ]
  },
  {
   "cell_type": "code",
   "execution_count": 25,
   "metadata": {},
   "outputs": [
    {
     "name": "stdout",
     "output_type": "stream",
     "text": [
      "[0.         0.06346652 0.12693304 0.19039955 0.25386607 0.31733259\n",
      " 0.38079911 0.44426563 0.50773215 0.57119866 0.63466518 0.6981317\n",
      " 0.76159822 0.82506474 0.88853126 0.95199777 1.01546429 1.07893081\n",
      " 1.14239733 1.20586385 1.26933037 1.33279688 1.3962634  1.45972992\n",
      " 1.52319644 1.58666296 1.65012947 1.71359599 1.77706251 1.84052903\n",
      " 1.90399555 1.96746207 2.03092858 2.0943951  2.15786162 2.22132814\n",
      " 2.28479466 2.34826118 2.41172769 2.47519421 2.53866073 2.60212725\n",
      " 2.66559377 2.72906028 2.7925268  2.85599332 2.91945984 2.98292636\n",
      " 3.04639288 3.10985939 3.17332591 3.23679243 3.30025895 3.36372547\n",
      " 3.42719199 3.4906585  3.55412502 3.61759154 3.68105806 3.74452458\n",
      " 3.8079911  3.87145761 3.93492413 3.99839065 4.06185717 4.12532369\n",
      " 4.1887902  4.25225672 4.31572324 4.37918976 4.44265628 4.5061228\n",
      " 4.56958931 4.63305583 4.69652235 4.75998887 4.82345539 4.88692191\n",
      " 4.95038842 5.01385494 5.07732146 5.14078798 5.2042545  5.26772102\n",
      " 5.33118753 5.39465405 5.45812057 5.52158709 5.58505361 5.64852012\n",
      " 5.71198664 5.77545316 5.83891968 5.9023862  5.96585272 6.02931923\n",
      " 6.09278575 6.15625227 6.21971879 6.28318531]\n",
      "[0.         0.63466518 1.26933037 1.90399555 2.53866073 3.17332591\n",
      " 3.8079911  4.44265628 5.07732146 5.71198664]\n",
      "[6.28318531 6.21971879 6.15625227 6.09278575 6.02931923 5.96585272\n",
      " 5.9023862  5.83891968 5.77545316 5.71198664 5.64852012 5.58505361\n",
      " 5.52158709 5.45812057 5.39465405 5.33118753 5.26772102 5.2042545\n",
      " 5.14078798 5.07732146 5.01385494 4.95038842 4.88692191 4.82345539\n",
      " 4.75998887 4.69652235 4.63305583 4.56958931 4.5061228  4.44265628\n",
      " 4.37918976 4.31572324 4.25225672 4.1887902  4.12532369 4.06185717\n",
      " 3.99839065 3.93492413 3.87145761 3.8079911  3.74452458 3.68105806\n",
      " 3.61759154 3.55412502 3.4906585  3.42719199 3.36372547 3.30025895\n",
      " 3.23679243 3.17332591 3.10985939 3.04639288 2.98292636 2.91945984\n",
      " 2.85599332 2.7925268  2.72906028 2.66559377 2.60212725 2.53866073\n",
      " 2.47519421 2.41172769 2.34826118 2.28479466 2.22132814 2.15786162\n",
      " 2.0943951  2.03092858 1.96746207 1.90399555 1.84052903 1.77706251\n",
      " 1.71359599 1.65012947 1.58666296 1.52319644 1.45972992 1.3962634\n",
      " 1.33279688 1.26933037 1.20586385 1.14239733 1.07893081 1.01546429\n",
      " 0.95199777 0.88853126 0.82506474 0.76159822 0.6981317  0.63466518\n",
      " 0.57119866 0.50773215 0.44426563 0.38079911 0.31733259 0.25386607\n",
      " 0.19039955 0.12693304 0.06346652 0.        ]\n",
      "[0.7615982190520711, 0.8250647373064104, 3.8714576135146945, 3.934924131769034]\n"
     ]
    }
   ],
   "source": [
    "import numpy as np\n",
    "import numpy.random as npr\n",
    "import math\n",
    "\n",
    "v=np.linspace(0,2*np.pi,100)\n",
    "print(v)\n",
    "\n",
    "print(v[::10]) #extract every 10th element\n",
    "print(v[::-1])\n",
    "\n",
    "extraction=[]\n",
    "for value in v:\n",
    "    if abs(np.sin(value)-np.cos(value))<0.1:\n",
    "        extraction.append(value)\n",
    "\n",
    "print(extraction)\n"
   ]
  },
  {
   "cell_type": "markdown",
   "metadata": {},
   "source": [
    "5\\. **Matrices**\n",
    "\n",
    "Create a matrix that shows the 10 by 10 multiplication table.\n",
    "\n",
    " * Find the trace of the matrix\n",
    " * Extract the anti-diagonal matrix (this should be ```array([10, 18, 24, 28, 30, 30, 28, 24, 18, 10])```)\n",
    " * Extract the diagonal offset by 1 upwards (this should be ```array([ 2,  6, 12, 20, 30, 42, 56, 72, 90])```)"
   ]
  },
  {
   "cell_type": "code",
   "execution_count": 3,
   "metadata": {},
   "outputs": [
    {
     "name": "stdout",
     "output_type": "stream",
     "text": [
      "[[  1.   2.   3.   4.   5.   6.   7.   8.   9.  10.]\n",
      " [  2.   4.   6.   8.  10.  12.  14.  16.  18.  20.]\n",
      " [  3.   6.   9.  12.  15.  18.  21.  24.  27.  30.]\n",
      " [  4.   8.  12.  16.  20.  24.  28.  32.  36.  40.]\n",
      " [  5.  10.  15.  20.  25.  30.  35.  40.  45.  50.]\n",
      " [  6.  12.  18.  24.  30.  36.  42.  48.  54.  60.]\n",
      " [  7.  14.  21.  28.  35.  42.  49.  56.  63.  70.]\n",
      " [  8.  16.  24.  32.  40.  48.  56.  64.  72.  80.]\n",
      " [  9.  18.  27.  36.  45.  54.  63.  72.  81.  90.]\n",
      " [ 10.  20.  30.  40.  50.  60.  70.  80.  90. 100.]]\n",
      "The trace is:  385.0 \n",
      "\n",
      "The anti-diagonal is:  [10. 18. 24. 28. 30. 30. 28. 24. 18. 10.] <class 'numpy.ndarray'> \n",
      "\n",
      "The diagonal offset by 1 upwards is:\n",
      " [ 2.  6. 12. 20. 30. 42. 56. 72. 90.] <class 'numpy.ndarray'>\n"
     ]
    }
   ],
   "source": [
    "import numpy as np\n",
    "import math\n",
    "\n",
    "m= np.zeros((10, 10))\n",
    "for i in range(10):\n",
    "    for j in range(10):\n",
    "        m[i][j]=(i+1)*(j+1)\n",
    "\n",
    "print(m)\n",
    "print(\"The trace is: \", np.trace(m), '\\n')\n",
    "\n",
    "ant_m = np.diag(np.fliplr(m))\n",
    "print('The anti-diagonal is: ', ant_m, type(ant_m),'\\n')\n",
    "\n",
    "m_diag = np.diag(m, +1)\n",
    "print('The diagonal offset by 1 upwards is:\\n', m_diag, type(m_diag))"
   ]
  },
  {
   "cell_type": "markdown",
   "metadata": {},
   "source": [
    "6\\. **Broadcasting**\n",
    "\n",
    "Use broadcasting to create a grid of distances.\n",
    "\n",
    "Route 66 crosses the following cities in the US: Chicago, Springfield, Saint-Louis, Tulsa, Oklahoma City, Amarillo, Santa Fe, Albuquerque, Flagstaff, Los Angeles.\n",
    "\n",
    "The corresponding positions in miles are: 0, 198, 303, 736, 871, 1175, 1475, 1544, 1913, 2448\n",
    "\n",
    "  * Build a 2D grid of distances among each city along Route 66\n",
    "  * Convert the distances in km"
   ]
  },
  {
   "cell_type": "code",
   "execution_count": 4,
   "metadata": {},
   "outputs": [
    {
     "name": "stdout",
     "output_type": "stream",
     "text": [
      "2D grid distances among city alont Route 66 (in miles): \n",
      " [[   0  198  303  736  871 1175 1475 1544 1913 2448]\n",
      " [ 198    0  105  538  673  977 1277 1346 1715 2250]\n",
      " [ 303  105    0  433  568  872 1172 1241 1610 2145]\n",
      " [ 736  538  433    0  135  439  739  808 1177 1712]\n",
      " [ 871  673  568  135    0  304  604  673 1042 1577]\n",
      " [1175  977  872  439  304    0  300  369  738 1273]\n",
      " [1475 1277 1172  739  604  300    0   69  438  973]\n",
      " [1544 1346 1241  808  673  369   69    0  369  904]\n",
      " [1913 1715 1610 1177 1042  738  438  369    0  535]\n",
      " [2448 2250 2145 1712 1577 1273  973  904  535    0]] \n",
      "\n",
      "2D grid distances among city alont Route 66 (in km): \n",
      "  [[   0.       318.64932  487.63002 1184.47424 1401.73514 1890.9745\n",
      "  2373.7765  2484.82096 3078.66742 3939.66432]\n",
      " [ 318.64932    0.       168.9807   865.82492 1083.08582 1572.32518\n",
      "  2055.12718 2166.17164 2760.0181  3621.015  ]\n",
      " [ 487.63002  168.9807     0.       696.84422  914.10512 1403.34448\n",
      "  1886.14648 1997.19094 2591.0374  3452.0343 ]\n",
      " [1184.47424  865.82492  696.84422    0.       217.2609   706.50026\n",
      "  1189.30226 1300.34672 1894.19318 2755.19008]\n",
      " [1401.73514 1083.08582  914.10512  217.2609     0.       489.23936\n",
      "   972.04136 1083.08582 1676.93228 2537.92918]\n",
      " [1890.9745  1572.32518 1403.34448  706.50026  489.23936    0.\n",
      "   482.802    593.84646 1187.69292 2048.68982]\n",
      " [2373.7765  2055.12718 1886.14648 1189.30226  972.04136  482.802\n",
      "     0.       111.04446  704.89092 1565.88782]\n",
      " [2484.82096 2166.17164 1997.19094 1300.34672 1083.08582  593.84646\n",
      "   111.04446    0.       593.84646 1454.84336]\n",
      " [3078.66742 2760.0181  2591.0374  1894.19318 1676.93228 1187.69292\n",
      "   704.89092  593.84646    0.       860.9969 ]\n",
      " [3939.66432 3621.015   3452.0343  2755.19008 2537.92918 2048.68982\n",
      "  1565.88782 1454.84336  860.9969     0.     ]]\n"
     ]
    }
   ],
   "source": [
    "import numpy as np\n",
    "import math\n",
    "\n",
    "pos = np.array([0,198,303,736,871,1175,1475,1544,1913,2448])\n",
    "dmiles = abs(np.tile(pos,(pos.shape[0],1)).T - pos)\n",
    "print('2D grid distances among city alont Route 66 (in miles): \\n', dmiles,'\\n')\n",
    "\n",
    "conv = 1.60934\n",
    "dkm = dmiles * conv\n",
    "print('2D grid distances among city alont Route 66 (in km): \\n ', dkm)"
   ]
  },
  {
   "cell_type": "markdown",
   "metadata": {},
   "source": [
    "7\\. **Prime numbers sieve**\n",
    "\n",
    "Compute the prime numbers in the 0-N (start with N=99) range with a sieve (mask).\n",
    "\n",
    "  * Constract a shape (N,) boolean array, which is the mask\n",
    "  * Identify the multiples of each number starting from 2 and set accordingly the corresponding mask element\n",
    "  * Apply the mask to obtain an array of ordered prime numbers\n",
    "  * Check the performances (with `timeit`); how does it scale with N?\n",
    "  * Implement the optimization suggested in the [sieve of Eratosthenes](https://en.wikipedia.org/wiki/Sieve_of_Eratosthenes)"
   ]
  },
  {
   "cell_type": "code",
   "execution_count": 6,
   "metadata": {},
   "outputs": [
    {
     "name": "stdout",
     "output_type": "stream",
     "text": [
      "Prime numbers in the 0 - 99 range:  [ 0  1  2  3  5  7  9 11 13 15 17 19 21 23 25 27 29 31 33 35 37 39 41 43\n",
      " 45 47 49 51 53 55 57 59 61 63 65 67 69 71 73 75 77 79 81 83 85 87 89 91\n",
      " 93 95 97] \n",
      "\n",
      "Performances of my algorithm (sec):  0.0009638846199999307 \n",
      "\n",
      "Prime numbers in the 0 - 99 range, found with Eratosthenes sieve:\n",
      " [ 0  1  2  3  5  7  9 11 13 15 17 19 21 23 25 27 29 31 33 35 37 39 41 43\n",
      " 45 47 49 51 53 55 57 59 61 63 65 67 69 71 73 75 77 79 81 83 85 87 89 91\n",
      " 93 95 97] \n",
      "\n",
      "Eratosthenes Algoritm Performance (sec):  0.0010444061910000074 \n",
      "\n"
     ]
    }
   ],
   "source": [
    "import numpy as np\n",
    "import math\n",
    "import timeit\n",
    "\n",
    "def findPrimes(N):\n",
    "    mask = np.array(np.ones(N,),bool)\n",
    "    #Identify the multiples\n",
    "    for num in range(2,N):\n",
    "        for k in range(2,N):\n",
    "            if num*k >= N or mask[num*k] == 0:\n",
    "                break\n",
    "            mask[num*k] = 0\n",
    "    primes = np.arange(0,N)[mask]\n",
    "    return primes\n",
    "\n",
    "N = 99\n",
    "loops = 1000\n",
    "primes = findPrimes(99)\n",
    "print('Prime numbers in the 0 -',N,'range: ',primes,'\\n')\n",
    "\n",
    "t = timeit.timeit('findPrimes(N)', globals = globals(), number = loops)\n",
    "time = t/loops\n",
    "print('Performances of my algorithm (sec): ', time, '\\n')\n",
    "\n",
    "#Sieve f Eratosthenes\n",
    "def eratosthenes(N):\n",
    "    mask = np.array(np.ones(N,),bool)\n",
    "    #Identify the multiples\n",
    "    for num in range(2,N):\n",
    "        if mask[num] == 0:\n",
    "            continue\n",
    "        else:\n",
    "            for k in range(2,N):\n",
    "                if num*k >= N or mask[num*k] == 0:\n",
    "                    break\n",
    "                mask[num*k] = 0\n",
    "    primes = np.arange(0,N)[mask]\n",
    "    return primes\n",
    "\n",
    "t_era = timeit.timeit('eratosthenes(N)', globals = globals(), number = loops)\n",
    "time_era = t_era/loops\n",
    "print('Prime numbers in the 0 -',N,'range, found with Eratosthenes sieve:\\n',eratosthenes(N),'\\n')\n",
    "print('Eratosthenes Algoritm Performance (sec): ',time_era, '\\n')\n"
   ]
  },
  {
   "cell_type": "markdown",
   "metadata": {},
   "source": [
    "8\\. **Diffusion using random walk**\n",
    "\n",
    "Consider a simple random walk process: at each step in time, a walker jumps right or left (+1 or -1) with equal probability. The goal is to find the typical distance from the origin of many random walkers after a given amount of time.\n",
    "\n",
    "*Hint*: create a 2D array where each row represents a walker, and each column represents a time step.\n",
    "\n",
    "  * Take 1000 walkers and let them walk for 200 steps\n",
    "  * Use `randint` to create a 2D array of size $walkers \\times steps$ with values -1 or 1\n",
    "  * Calculate the walking distances for each walker (e.g. by summing the elements in each row)\n",
    "  * Take the square of the previously-obtained array (element-wise)\n",
    "  * Compute the mean of the squared distances at each step (i.e. the mean along the columns)\n",
    "  * **Optional**: plot the average distances ($\\sqrt(distance^2)$) as a function of time (step)"
   ]
  },
  {
   "cell_type": "code",
   "execution_count": 7,
   "metadata": {},
   "outputs": [
    {
     "name": "stdout",
     "output_type": "stream",
     "text": [
      "Distances for each walker:\n",
      " [ -8   4  -8  14   8   8 -10 -12   6  10  -8  10 -20 -20   0   4  18   8\n",
      " -16  -8   8  -8  12  30  -4  12  -6 -12  24   0 -26   0  16  -2   8 -18\n",
      "   4  -4   8  22 -16 -14  10  -6  -4  22 -10  20 -16  -2  -2  -4  -4   0\n",
      " -12  12 -10   2 -32   8 -10  -4 -36  -4 -16  16  26   2  10  -4  -8   4\n",
      "  10   0  14  12   2  20 -20 -22  -4 -16   4   2 -16 -16  -2  28  -6 -18\n",
      "  26   2 -16  22  26   2 -14  20  -6  -4  26  26  12  30   2 -22   2  -6\n",
      "   8 -22  24   2 -12 -16   0  -6 -10  14  -6 -26   0 -14  20   6  26 -18\n",
      "  -2  16  -6  -8  -4   2   6   2  14   4   4   0  -2 -16  -8 -12  -2  36\n",
      " -18  -8  38 -20  32  22 -24  14 -14   4  24  -2 -20 -14 -14 -24  -4  -4\n",
      "  10   0 -12 -24 -16  12 -10   6 -28 -20   2  14 -20   2 -30  -8  -6  -8\n",
      "  26 -22 -10  -4  22   8  -2   8   8 -10  10  -4   0 -38  -6  32 -26  32\n",
      "   6  14 -12   4 -12   0 -16   6  10   6 -16  -4   6   4 -32 -14   4 -12\n",
      "  22  20   6  24   8  -6  -6   8 -26 -14 -14  32 -12 -20  -2   4  12 -18\n",
      "  -4  -2  10  -6  12 -22  -2   4   8  -6   2 -16  12   8 -14  -4  12   6\n",
      "   4   2   2 -12  14  32  -4   2  -6   6   8 -24 -14   0 -16  34  -6  -4\n",
      "   8  -6   8  -2  -6  10  36  14  -2  12   4  -2 -16  14  -6   6   2  14\n",
      "  -6  18 -24  -6  12 -24  22  -4 -32 -16 -14  -6  16  20  -4 -16   6  -6\n",
      " -28  18  -4  32   4   2 -16   2 -14  22   4  -6 -10 -18  -4  14 -26   2\n",
      "  -2 -26   0 -14  18   4 -10   8  -8  16  32  -6  -6  12  20   4 -12 -16\n",
      "  -6 -26   8  -6 -24  24  -6  -4  -4   0  -4  26   2   0 -14  14  16  -6\n",
      "  10 -14 -10  -4 -18 -12  26  10 -16  -6 -12  14 -20   6 -22  -6  -8   0\n",
      "  12   6  -4  16  -8   2  -4   2  26   6 -24 -18   2 -12   2   4   8 -22\n",
      "   2   8  20  -8  16   2 -24  -6 -20 -12 -14 -22 -12  14 -14 -16 -34   8\n",
      " -14  26 -22  -6  16 -18 -16  -8 -18 -18 -26   0   2  38  -6  24   8  12\n",
      "   8  18 -22  24   0  16  -4  16  -4   6 -36 -34   0 -26  -2   4  18   2\n",
      " -14   2   2   2   0 -32   4  12   0  -6  -4  -2  12   2  12  -4  -4   8\n",
      "  20 -24  18  12  -4   8   4  -6  20  -8   0  -8  -2  -6  -6  14 -14  14\n",
      "  -8  10   4  14 -48 -22  -8  24  -6 -10  -4   8 -20  22  22   6 -14  -4\n",
      " -14 -12   8 -18   0  14  22   4  -6  -4   4  18  -6  14  22  32 -24 -14\n",
      " -16  26  -6   8   4  20  10  -4 -16  32  12  14   2 -12   0  -8   0 -10\n",
      "   0  16 -16 -14  -6  14  -8  16   4 -12  -4  12 -18  -2   8 -12   2 -10\n",
      "  24   0  -8  18   0   6  10  14 -16  16  28  10  18 -18   0  16  -2   6\n",
      " -14  22   0   2 -44   2 -38   0   0   6   8   6 -28  24 -12   6  -6  12\n",
      "  -6  12  16  22   8 -26  12  24  16  10  20  -6  -4  12   8  -2   4  22\n",
      "  -2  12 -12 -18 -16 -16   4  20   6  22   4  -6  -2   2  -2  10  18  10\n",
      "  20  -4  14  -8 -26  28   4 -14  22 -10  -2  -6 -12   4  32 -10  14 -26\n",
      "   0   2  -2  -6   8  -8  -8  10   2 -14  16  10 -36  -4  12   6   6  -8\n",
      " -18  -2  -4  -6 -16  12  38   4 -26 -10   6  28   6   6  -2   6  10  34\n",
      "   8  14  28   0 -16  -8   2  14  -2  -6   8  -6 -10   8  12  10  14  16\n",
      "  -4   8  12  -8  18 -12  18 -10 -10  16   6 -12   4 -10   2 -10  18  26\n",
      " -34 -28 -10 -20  -8 -32 -10  -4  -2  -2 -14 -18  -8 -12   2  22   6 -12\n",
      "  -2 -24  18  -4 -12   8 -20   6   6   4  24  26  -8 -10  18   8   2   4\n",
      "  -6 -22  -4 -12 -14  -2  14  -2  26 -10  10  10  14 -20  -6   8   4  10\n",
      " -14   4  14 -30  -4  -2  26  16   8 -14 -18 -12  10  -8  10  -6  -8 -20\n",
      " -16 -22  -4  14  -4  -2  -4   6  -4  10   2  -8 -16  20 -12  -8   4  -8\n",
      " -10 -16   2  16  34 -18  -4   6 -20  -2   2 -14  -4   0  14  -8   6 -12\n",
      "   8  18 -16   2   2  20   8  -6  -2  -4   0  14   0   8  -2  14  12  16\n",
      "   2  -2  24 -18 -14   6 -20 -10  -2   6   0 -12  -6 -10 -28 -30  -6  -8\n",
      "  22 -20  -2 -16 -14  26   4   2  -6  30 -26   8  12  18 -12  -6  -2   2\n",
      "   8 -10   6 -10 -20  -6  24   8   0   0 -16 -22  -6  18  10 -52 -12  -4\n",
      " -20 -14   6  -8   4 -16  -2 -14 -12   8   0  -2   8   4  14  16 -12  -6\n",
      "   4   6  16  -6   0  -6 -12   2   6  -4  -6 -16  -8   0  20 -12 -12   0\n",
      "  22   2  12 -18  10 -14  16 -24 -16  -2  -8  20  -8  -4   0 -26   2   0\n",
      "  -8 -10  12  14   6   4   4  -8  16   4 -12  22  12   6   8  -6   4 -26\n",
      "   4  12 -10 -22   4 -22 -12   8  20   6 -14   8   8  -4 -10  -8  24   8\n",
      "  -4  24   6 -14 -12   6   0 -20 -14  18] \n",
      " 1000\n"
     ]
    }
   ],
   "source": [
    "import numpy as np\n",
    "import numpy.random as npr\n",
    "import math\n",
    "\n",
    "nwalkers = 1000\n",
    "nsteps = 200\n",
    "walkers = np.random.randint(0,2,(nwalkers,nsteps))\n",
    "walkers[walkers == 0] = -1\n",
    "distances = walkers.sum(axis = 1)\n",
    "print('Distances for each walker:\\n',distances,'\\n', distances.shape[0])\n",
    "#distances_square = np.square(distances)\n",
    "walkers_square = np.square(walkers)\n"
   ]
  },
  {
   "cell_type": "code",
   "execution_count": null,
   "metadata": {},
   "outputs": [],
   "source": []
  }
 ],
 "metadata": {
  "kernelspec": {
   "display_name": "Python 3 (ipykernel)",
   "language": "python",
   "name": "python3"
  },
  "language_info": {
   "codemirror_mode": {
    "name": "ipython",
    "version": 3
   },
   "file_extension": ".py",
   "mimetype": "text/x-python",
   "name": "python",
   "nbconvert_exporter": "python",
   "pygments_lexer": "ipython3",
   "version": "3.9.12"
  }
 },
 "nbformat": 4,
 "nbformat_minor": 2
}
