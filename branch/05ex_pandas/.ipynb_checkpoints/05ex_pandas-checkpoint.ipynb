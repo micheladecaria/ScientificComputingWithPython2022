{
 "cells": [
  {
   "cell_type": "markdown",
   "metadata": {},
   "source": [
    "1\\. **Pandas DataFrame**\n",
    "\n",
    "This exercise consists in analyzing a dataset containg timing information from a series of Time-to-Digital-Converters (TDC) implemented in a pair of FPGAs. Each measurement (i.e. each row of the input file) consists of a flag that specifies the type of message ('HEAD', which in this case is always 1), two addresses of the TDC providing the signal ('FPGA' and 'TDC_CHANNEL'), and the timing information ('ORBIT_CNT', 'BX_COUNTER', and 'TDC_MEAS'). Each TDC count corresponds to 25/30 ns, whereas a unit of BX_COUNTER corresponds to 25 ns, and the ORBIT_CNT is increased every `x` BX_COUNTER. This allows to store the time in a similar way to hours, minutes and seconds."
   ]
  },
  {
   "cell_type": "markdown",
   "metadata": {},
   "source": [
    "1\\. Create a Pandas DataFrame reading N rows of the `data/data_000637.txt` dataset. Choose N to be smaller than or equal to the maximum number of rows and larger that 10k (check the documentation)."
   ]
  },
  {
   "cell_type": "code",
   "execution_count": 61,
   "metadata": {},
   "outputs": [
    {
     "name": "stdout",
     "output_type": "stream",
     "text": [
      "        HEAD  FPGA  TDC_CHANNEL   ORBIT_CNT  BX_COUNTER  TDC_MEAS\n",
      "0          1     0          123  3869200167        2374        26\n",
      "1          1     0          124  3869200167        2374        27\n",
      "2          1     0           63  3869200167        2553        28\n",
      "3          1     0           64  3869200167        2558        19\n",
      "4          1     0           64  3869200167        2760        25\n",
      "...      ...   ...          ...         ...         ...       ...\n",
      "999995     1     0           62  3869209011        2560        29\n",
      "999996     1     0           51  3869209011        2561        12\n",
      "999997     1     0           61  3869209011        2562         2\n",
      "999998     1     0           50  3869209011        2563         4\n",
      "999999     1     0           60  3869209011        2688        25\n",
      "\n",
      "[1000000 rows x 6 columns]\n"
     ]
    }
   ],
   "source": [
    "\n",
    "import pandas as pd\n",
    "\n",
    "file_name = \"./data/data_000637.txt\"\n",
    "df = pd.read_csv(file_name,  nrows = 1000000)\n",
    "\n",
    "print (df)\n",
    "\n",
    "\n",
    "\n"
   ]
  },
  {
   "cell_type": "markdown",
   "metadata": {},
   "source": [
    "2\\. Estimate the number of BX in a ORBIT (the value `x`).\n",
    "\n",
    "*Hint*: check when the BX counter reaches the maximum value before being reset to 0."
   ]
  },
  {
   "cell_type": "code",
   "execution_count": 58,
   "metadata": {},
   "outputs": [
    {
     "data": {
      "text/plain": [
       "3563"
      ]
     },
     "execution_count": 58,
     "metadata": {},
     "output_type": "execute_result"
    }
   ],
   "source": [
    "\n",
    "df['BX_COUNTER'].max()\n"
   ]
  },
  {
   "cell_type": "markdown",
   "metadata": {},
   "source": [
    "3\\. Create a new column with the absolute time in ns (as a combination of the other three columns with timing information) since the beginning of the data acquisition, and convert the new column to a Time Series."
   ]
  },
  {
   "cell_type": "code",
   "execution_count": 57,
   "metadata": {},
   "outputs": [
    {
     "name": "stdout",
     "output_type": "stream",
     "text": [
      "        HEAD  FPGA  TDC_CHANNEL   ORBIT_CNT  BX_COUNTER  TDC_MEAS  \\\n",
      "0          1     0          123  3869200167        2374        26   \n",
      "1          1     0          124  3869200167        2374        27   \n",
      "2          1     0           63  3869200167        2553        28   \n",
      "3          1     0           64  3869200167        2558        19   \n",
      "4          1     0           64  3869200167        2760        25   \n",
      "...      ...   ...          ...         ...         ...       ...   \n",
      "999995     1     0           62  3869209011        2560        29   \n",
      "999996     1     0           51  3869209011        2561        12   \n",
      "999997     1     0           61  3869209011        2562         2   \n",
      "999998     1     0           50  3869209011        2563         4   \n",
      "999999     1     0           60  3869209011        2688        25   \n",
      "\n",
      "        ABSOLUTE_TIME  \n",
      "0        0.000000e+00  \n",
      "1        8.333333e-01  \n",
      "2        4.476667e+03  \n",
      "3        4.594167e+03  \n",
      "4        9.649167e+03  \n",
      "...               ...  \n",
      "999995   7.880051e+08  \n",
      "999996   7.880051e+08  \n",
      "999997   7.880051e+08  \n",
      "999998   7.880051e+08  \n",
      "999999   7.880082e+08  \n",
      "\n",
      "[1000000 rows x 7 columns]\n"
     ]
    }
   ],
   "source": [
    "\n",
    "df['ABSOLUTE_TIME'] = (df['ORBIT_CNT']-3869200167)*(3564*25)+(df['BX_COUNTER']-2374)*25+(df['TDC_MEAS']-26)*25/30\n",
    "print(df)\n",
    "\n"
   ]
  },
  {
   "cell_type": "markdown",
   "metadata": {},
   "source": [
    "4\\. Find out the duration of the data taking in hours, minutes and seconds, by using the features of the Time Series. Perform this check reading the whole dataset."
   ]
  },
  {
   "cell_type": "code",
   "execution_count": 59,
   "metadata": {},
   "outputs": [
    {
     "name": "stdout",
     "output_type": "stream",
     "text": [
      "        HEAD  FPGA  TDC_CHANNEL   ORBIT_CNT  BX_COUNTER  TDC_MEAS  \\\n",
      "0          1     0          123  3869200167        2374        26   \n",
      "1          1     0          124  3869200167        2374        27   \n",
      "2          1     0           63  3869200167        2553        28   \n",
      "3          1     0           64  3869200167        2558        19   \n",
      "4          1     0           64  3869200167        2760        25   \n",
      "...      ...   ...          ...         ...         ...       ...   \n",
      "999995     1     0           62  3869209011        2560        29   \n",
      "999996     1     0           51  3869209011        2561        12   \n",
      "999997     1     0           61  3869209011        2562         2   \n",
      "999998     1     0           50  3869209011        2563         4   \n",
      "999999     1     0           60  3869209011        2688        25   \n",
      "\n",
      "          ABSOLUTE_TIME  \n",
      "0              00:00:00  \n",
      "1              00:00:00  \n",
      "2       00:00:00.000004  \n",
      "3       00:00:00.000004  \n",
      "4       00:00:00.000009  \n",
      "...                 ...  \n",
      "999995  00:00:00.788005  \n",
      "999996  00:00:00.788005  \n",
      "999997  00:00:00.788005  \n",
      "999998  00:00:00.788005  \n",
      "999999  00:00:00.788008  \n",
      "\n",
      "[1000000 rows x 7 columns]\n"
     ]
    }
   ],
   "source": [
    "\n",
    "\n",
    "df['ABSOLUTE_TIME'] = pd.to_datetime(df['ABSOLUTE_TIME']).dt.time\n",
    "print(df)\n",
    "\n",
    "     \n"
   ]
  },
  {
   "cell_type": "markdown",
   "metadata": {},
   "source": [
    "5\\. Use the `.groupby()` method to find out the noisy channels, i.e. the TDC channels with most counts (print to screen the top 3 and the corresponding counts)"
   ]
  },
  {
   "cell_type": "code",
   "execution_count": 55,
   "metadata": {},
   "outputs": [
    {
     "name": "stdout",
     "output_type": "stream",
     "text": [
      "FPGA  TDC_CHANNEL\n",
      "0     139            57878\n",
      "      64             49109\n",
      "      63             48604\n",
      "Name: TDC_CHANNEL, dtype: int64\n"
     ]
    }
   ],
   "source": [
    "print(df.groupby(['FPGA','TDC_CHANNEL'])['TDC_CHANNEL'].count().sort_values(ascending = False).head(3))"
   ]
  },
  {
   "cell_type": "markdown",
   "metadata": {},
   "source": [
    "6\\. Count the number of non-empty orbits (i.e. the number of orbits with at least one hit)."
   ]
  },
  {
   "cell_type": "code",
   "execution_count": 53,
   "metadata": {},
   "outputs": [
    {
     "name": "stdout",
     "output_type": "stream",
     "text": [
      "8841\n"
     ]
    }
   ],
   "source": [
    "\n",
    "\n",
    "nan = set(df['ORBIT_CNT'])\n",
    "print(len(nan))\n",
    "\n",
    "\n"
   ]
  },
  {
   "cell_type": "markdown",
   "metadata": {},
   "source": [
    "7\\. Count the number of unique orbits with at least one measurement from TDC_CHANNEL=139."
   ]
  },
  {
   "cell_type": "code",
   "execution_count": 54,
   "metadata": {},
   "outputs": [
    {
     "name": "stdout",
     "output_type": "stream",
     "text": [
      "2392\n"
     ]
    }
   ],
   "source": [
    "\n",
    "\n",
    "\n",
    "tdc_139 = data[data['TDC_CHANNEL'] == 139]\n",
    "tdc_139_orbits = set(tdc_139['ORBIT_CNT'])\n",
    "print(len(tdc_139_orbits))\n",
    "\n",
    "\n"
   ]
  },
  {
   "cell_type": "markdown",
   "metadata": {},
   "source": [
    "8\\. Create two Series (one for each FPGA) that have the TDC channel as index, and the number of counts for the corresponding TDC channel as values."
   ]
  },
  {
   "cell_type": "code",
   "execution_count": 60,
   "metadata": {},
   "outputs": [
    {
     "name": "stdout",
     "output_type": "stream",
     "text": [
      "TDC_CHANNEL\n",
      "1        933\n",
      "2       1207\n",
      "3       1156\n",
      "4       1794\n",
      "5       1096\n",
      "       ...  \n",
      "129        2\n",
      "130       24\n",
      "137       23\n",
      "138       25\n",
      "139    57878\n",
      "Name: TDC_CHANNEL, Length: 124, dtype: int64 \n",
      "\n",
      "TDC_CHANNEL\n",
      "1      21622\n",
      "2      24871\n",
      "3      16725\n",
      "4      20087\n",
      "5      11375\n",
      "       ...  \n",
      "129       26\n",
      "130       29\n",
      "137       27\n",
      "138       27\n",
      "139    24799\n",
      "Name: TDC_CHANNEL, Length: 132, dtype: int64 \n",
      "\n"
     ]
    }
   ],
   "source": [
    "\n",
    "FPGA0 = (df[df['FPGA']== 0]).groupby('TDC_CHANNEL')['TDC_CHANNEL'].count()\n",
    "FPGA1 = (df[df['FPGA']==1]).groupby('TDC_CHANNEL')['TDC_CHANNEL'].count()\n",
    "print(FPGA0,'\\n')\n",
    "print(FPGA1,'\\n')\n"
   ]
  },
  {
   "cell_type": "markdown",
   "metadata": {},
   "source": [
    "9\\. **Optional:** Create two histograms (one for each FPGA) that show the number of counts for each TDC channel."
   ]
  },
  {
   "cell_type": "code",
   "execution_count": null,
   "metadata": {},
   "outputs": [],
   "source": []
  }
 ],
 "metadata": {
  "kernelspec": {
   "display_name": "Python 3 (ipykernel)",
   "language": "python",
   "name": "python3"
  },
  "language_info": {
   "codemirror_mode": {
    "name": "ipython",
    "version": 3
   },
   "file_extension": ".py",
   "mimetype": "text/x-python",
   "name": "python",
   "nbconvert_exporter": "python",
   "pygments_lexer": "ipython3",
   "version": "3.9.12"
  }
 },
 "nbformat": 4,
 "nbformat_minor": 2
}
